{
 "cells": [
  {
   "cell_type": "code",
   "execution_count": 1,
   "id": "883fc5f3",
   "metadata": {},
   "outputs": [
    {
     "data": {
      "image/png": "[encoded data removed]",
      "text/plain": [
       "<Figure size 287.294x200.667 with 1 Axes>"
      ]
     },
     "execution_count": 1,
     "metadata": {},
     "output_type": "execute_result"
    }
   ],
   "source": [
    "from qiskit import QuantumCircuit\n",
    "from qiskit.quantum_info import SparsePauliOp\n",
    "from qiskit.transpiler import generate_preset_pass_manager\n",
    "from qiskit_ibm_runtime import EstimatorV2 as Estimator\n",
    " \n",
    "# Create a new circuit with two qubits\n",
    "qc = QuantumCircuit(2)\n",
    " \n",
    "# Add a Hadamard gate to qubit 0\n",
    "qc.h(0)\n",
    " \n",
    "# Perform a controlled-X gate on qubit 1, controlled by qubit 0\n",
    "qc.cx(0, 1)\n",
    " \n",
    "# Return a drawing of the circuit using MatPlotLib (\"mpl\").\n",
    "# These guides are written by using Jupyter notebooks, which\n",
    "# display the output of the last line of each cell.\n",
    "# If you're running this in a script, use `print(qc.draw())` to\n",
    "# print a text drawing.\n",
    "qc.draw(\"mpl\")"
   ]
  },
  {
   "cell_type": "code",
   "execution_count": 2,
   "id": "40d4a0db",
   "metadata": {},
   "outputs": [
    {
     "name": "stderr",
     "output_type": "stream",
     "text": [
      "C:\\Users\\DanielPlascencia\\AppData\\Local\\Temp\\ipykernel_11744\\1786841679.py:5: DeprecationWarning: The \"ibm_quantum\" channel option is deprecated and will be sunset on 1 July. After this date, \"ibm_cloud\" and \"local\" will be the only valid channels. For information on migrating to the new IBM Quantum Platform on the \"ibm_cloud\" channel, review the migration guide https://quantum.cloud.ibm.com/docs/migration-guides/classic-iqp-to-cloud-iqp .\n",
      "  service = QiskitRuntimeService(channel=\"ibm_quantum\", token=\"548e894f0214b7c74dd1e948b56d687195ba9ae715b0b45ea77ecd91899ffe9b8349073d9bc9b7f1b19555ebae93a9a4c0049689bd5411541f50b16ce07a5c30\")\n"
     ]
    }
   ],
   "source": [
    "from qiskit_ibm_runtime import QiskitRuntimeService\n",
    " \n",
    "# After using the following code, go to your dashboard (https://quantum.ibm.com/)\n",
    "# and expire your API key (click the refresh button in the API key field)\n",
    "service = QiskitRuntimeService(channel=\"ibm_quantum\", token=\"548e894f0214b7c74dd1e948b56d687195ba9ae715b0b45ea77ecd91899ffe9b8349073d9bc9b7f1b19555ebae93a9a4c0049689bd5411541f50b16ce07a5c30\")"
   ]
  },
  {
   "cell_type": "code",
   "execution_count": null,
   "id": "cbb10ba8",
   "metadata": {},
   "outputs": [
    {
     "name": "stderr",
     "output_type": "stream",
     "text": [
      "C:\\Users\\DanielPlascencia\\AppData\\Local\\Temp\\ipykernel_11744\\1281915812.py:9: DeprecationWarning: The \"ibm_quantum\" channel option is deprecated and will be sunset on 1 July. After this date, \"ibm_cloud\" and \"local\" will be the only valid channels. For information on migrating to the new IBM Quantum Platform on the \"ibm_cloud\" channel, review the migration guide https://quantum.cloud.ibm.com/docs/migration-guides/classic-iqp-to-cloud-iqp .\n",
      "  service = QiskitRuntimeService(channel=\"ibm_quantum\", token=\"548e894f0214b7c74dd1e948b56d687195ba9ae715b0b45ea77ecd91899ffe9b8349073d9bc9b7f1b19555ebae93a9a4c0049689bd5411541f50b16ce07a5c30\")\n"
     ]
    },
    {
     "ename": "QiskitBackendNotFoundError",
     "evalue": "'No backend matches the criteria.'",
     "output_type": "error",
     "traceback": [
      "\u001b[31m---------------------------------------------------------------------------\u001b[39m",
      "\u001b[31mQiskitBackendNotFoundError\u001b[39m                Traceback (most recent call last)",
      "\u001b[36mCell\u001b[39m\u001b[36m \u001b[39m\u001b[32mIn[5]\u001b[39m\u001b[32m, line 10\u001b[39m\n\u001b[32m      8\u001b[39m \u001b[38;5;66;03m# You'll need to specify the credentials when initializing QiskitRuntimeService, if they were not previously saved.\u001b[39;00m\n\u001b[32m      9\u001b[39m service = QiskitRuntimeService(channel=\u001b[33m\"\u001b[39m\u001b[33mibm_quantum\u001b[39m\u001b[33m\"\u001b[39m, token=\u001b[33m\"\u001b[39m\u001b[33m548e894f0214b7c74dd1e948b56d687195ba9ae715b0b45ea77ecd91899ffe9b8349073d9bc9b7f1b19555ebae93a9a4c0049689bd5411541f50b16ce07a5c30\u001b[39m\u001b[33m\"\u001b[39m)\n\u001b[32m---> \u001b[39m\u001b[32m10\u001b[39m backend = \u001b[43mservice\u001b[49m\u001b[43m.\u001b[49m\u001b[43mleast_busy\u001b[49m\u001b[43m(\u001b[49m\u001b[43moperational\u001b[49m\u001b[43m=\u001b[49m\u001b[38;5;28;43;01mTrue\u001b[39;49;00m\u001b[43m,\u001b[49m\u001b[43m \u001b[49m\u001b[43msimulator\u001b[49m\u001b[43m=\u001b[49m\u001b[38;5;28;43;01mTrue\u001b[39;49;00m\u001b[43m)\u001b[49m\n\u001b[32m     12\u001b[39m sampler = Sampler(backend)\n\u001b[32m     13\u001b[39m job = sampler.run([example_circuit])\n",
      "\u001b[36mFile \u001b[39m\u001b[32mc:\\Users\\DanielPlascencia\\anaconda3\\envs\\cwq\\Lib\\site-packages\\qiskit_ibm_runtime\\qiskit_runtime_service.py:1175\u001b[39m, in \u001b[36mQiskitRuntimeService.least_busy\u001b[39m\u001b[34m(self, min_num_qubits, instance, filters, **kwargs)\u001b[39m\n\u001b[32m   1173\u001b[39m     candidates.append(back)\n\u001b[32m   1174\u001b[39m \u001b[38;5;28;01mif\u001b[39;00m \u001b[38;5;129;01mnot\u001b[39;00m candidates:\n\u001b[32m-> \u001b[39m\u001b[32m1175\u001b[39m     \u001b[38;5;28;01mraise\u001b[39;00m QiskitBackendNotFoundError(\u001b[33m\"\u001b[39m\u001b[33mNo backend matches the criteria.\u001b[39m\u001b[33m\"\u001b[39m)\n\u001b[32m   1176\u001b[39m \u001b[38;5;28;01mreturn\u001b[39;00m \u001b[38;5;28mmin\u001b[39m(candidates, key=\u001b[38;5;28;01mlambda\u001b[39;00m b: b.status().pending_jobs)\n",
      "\u001b[31mQiskitBackendNotFoundError\u001b[39m: 'No backend matches the criteria.'"
     ]
    }
   ],
   "source": [
    "from qiskit import QuantumCircuit\n",
    "from qiskit_ibm_runtime import QiskitRuntimeService, SamplerV2 as Sampler\n",
    " \n",
    "# Create empty circuit\n",
    "example_circuit = QuantumCircuit(2)\n",
    "example_circuit.measure_all()\n",
    " \n",
    "# You'll need to specify the credentials when initializing QiskitRuntimeService, if they were not previously saved.\n",
    "service = QiskitRuntimeService(channel=\"ibm_quantum\", token=\"\") #real backend uses channel=\"ibm_quantum\" if you are using a real backend simulator must be False and remember your time is limited to 10 mins a month\n",
    "backend = service.least_busy(operational=True, simulator=True) #left simulator=True to make sure it doesnt accidentally use a real backend since you have limited time\n",
    " \n",
    "sampler = Sampler(backend)\n",
    "job = sampler.run([example_circuit])\n",
    "print(f\"job id: {job.job_id()}\")\n",
    "result = job.result()\n",
    "print(result)"
   ]
  },
  {
   "cell_type": "markdown",
   "id": "48a59908",
   "metadata": {},
   "source": [
    "C:\\Users\\DanielPlascencia\\AppData\\Local\\Temp\\ipykernel_11744\\1035924711.py:9: DeprecationWarning: The \"ibm_quantum\" channel option is deprecated and will be sunset on 1 July. After this date, \"ibm_cloud\" and \"local\" will be the only valid channels. For information on migrating to the new IBM Quantum Platform on the \"ibm_cloud\" channel, review the migration guide https://quantum.cloud.ibm.com/docs/migration-guides/classic-iqp-to-cloud-iqp .\n",
    "  service = QiskitRuntimeService(channel=\"ibm_quantum\", token=\"548e894f0214b7c74dd1e948b56d687195ba9ae715b0b45ea77ecd91899ffe9b8349073d9bc9b7f1b19555ebae93a9a4c0049689bd5411541f50b16ce07a5c30\")\n",
    "job id: d0k8esk36cs0008rz4bg\n",
    "PrimitiveResult([SamplerPubResult(data=DataBin(meas=BitArray(<shape=(), num_shots=4096, num_bits=2>)), metadata={'circuit_metadata': {}})], metadata={'execution': {'execution_spans': ExecutionSpans([DoubleSliceSpan(<start='2025-05-16 00:36:28', stop='2025-05-16 00:36:29', size=4096>)])}, 'version': 2}) #output from above command while on simulator=False"
   ]
  }
 ],
 "metadata": {
  "kernelspec": {
   "display_name": "cwq",
   "language": "python",
   "name": "python3"
  },
  "language_info": {
   "codemirror_mode": {
    "name": "ipython",
    "version": 3
   },
   "file_extension": ".py",
   "mimetype": "text/x-python",
   "name": "python",
   "nbconvert_exporter": "python",
   "pygments_lexer": "ipython3",
   "version": "3.13.2"
  }
 },
 "nbformat": 4,
 "nbformat_minor": 5
}
